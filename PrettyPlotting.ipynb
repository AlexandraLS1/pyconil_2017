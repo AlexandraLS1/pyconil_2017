{
 "cells": [
  {
   "cell_type": "markdown",
   "metadata": {},
   "source": [
    "# From plotting to \"chart-porn\": Creating slick charts with Matplotlib\n",
    "\n",
    "### PyCon Israel 2017\n",
    "\n",
    "\n",
    "Tamir Lousky, B.Sc\n",
    "\n",
    "Download this notebook and related data and stylesheets at:\n",
    "https://github.com/Tlousky/pyconil_2017"
   ]
  },
  {
   "cell_type": "code",
   "execution_count": null,
   "metadata": {
    "collapsed": true
   },
   "outputs": [],
   "source": [
    "# Libraries, imports and settings\n",
    "%matplotlib inline\n",
    "import matplotlib as mpl\n",
    "from matplotlib import style\n",
    "import matplotlib.pyplot as plt\n",
    "import numpy  as np\n",
    "import pandas as pd\n",
    "from sklearn import datasets\n",
    "from os.path import isfile"
   ]
  },
  {
   "cell_type": "code",
   "execution_count": null,
   "metadata": {},
   "outputs": [],
   "source": [
    "# Demo code for first spicy chart - let's ignore it for now, we'll discuss these techinques in detail later\n",
    "style.use('ggplot_pp.mplstyle')\n",
    "f, ax = plt.subplots( figsize = (12,8) )\n",
    "\n",
    "df = pd.read_csv( 'spicy.csv' )\n",
    "cm = plt.cm.get_cmap('PuRd')\n",
    "\n",
    "sc = ax.scatter( df.x, df.y, c = df.y, vmin = min( df.y ), vmax = max( df.y ), s = 35, cmap = cm )\n",
    "ax.set( ylabel   = \"Temperature (C)\", xlabel   = \"Capsaicin concentration (mg/ml)\" )\n",
    "ax.set_title( 'Spicy charting with extra hot sauce!', fontsize = 18 )\n",
    "\n",
    "plt.colorbar( sc )\n",
    "\n",
    "plt.show()"
   ]
  },
  {
   "cell_type": "markdown",
   "metadata": {},
   "source": [
    "## Data preparation\n",
    "\n",
    "To visualize stuff we first need to have some data. In the following examples we'll use a combination of random generated data, and well known datasets such as the Iris machine learning dataset."
   ]
  },
  {
   "cell_type": "code",
   "execution_count": null,
   "metadata": {
    "collapsed": true
   },
   "outputs": [],
   "source": [
    "# Based on: http://stackoverflow.com/a/38105540/3104151\n",
    "\n",
    "# save load_iris() sklearn dataset to iris\n",
    "iris = datasets.load_iris()\n",
    "\n",
    "# np.c_ is the numpy concatenate function\n",
    "# which is used to concat iris['data'] and iris['target'] arrays \n",
    "# for pandas column argument: concat iris['feature_names'] list\n",
    "# and string list (in this case one string); you can make this anything you'd like..  \n",
    "# the original dataset would probably call this ['Species']\n",
    "irisDF = pd.DataFrame(\n",
    "    data    = np.c_[ iris['data'], iris['target'] ],\n",
    "    columns = iris['feature_names'] + ['target']\n",
    ")\n",
    "\n",
    "# Rename columns for clarity and ease of use\n",
    "newNames = [ 'SepalLength', 'SepalWidth', 'PetalLength', 'PetalWidth', 'Species' ]\n",
    "irisDF.rename( \n",
    "    columns = { oldName : newName for oldName, newName in zip( irisDF.columns, newNames ) },\n",
    "    inplace = True \n",
    ")\n",
    "\n",
    "# Replace species indices with species names\n",
    "Species = [ 'Iris setosa', 'Iris versicolour', 'Iris virginica' ]\n",
    "irisDF.Species = [ Species[int(i)] for i in irisDF.Species ]"
   ]
  },
  {
   "cell_type": "markdown",
   "metadata": {},
   "source": [
    "## Styles\n",
    "\n",
    "### What are styles?\n",
    "Styles are collections of plot design parameters, such as fonts, gridlines, line width, background color, etc.\n",
    "\n",
    "Matplotlib provides a list of style presets, and if you have a really good eye for slick design, you can also define your own style and use it. WARNING: most developers tend to be pretty bad at design, so it might be safer to use one of the existing presets :-P"
   ]
  },
  {
   "cell_type": "code",
   "execution_count": null,
   "metadata": {},
   "outputs": [],
   "source": [
    "# Available style presets\n",
    "print( style.available )"
   ]
  },
  {
   "cell_type": "code",
   "execution_count": null,
   "metadata": {
    "collapsed": true
   },
   "outputs": [],
   "source": [
    "def testStyle( styleType = None, file = False ):\n",
    "    ''' Draw 6 charts using the Iris dataset and some random data,\n",
    "    using the provided styleType (or the default style of no valid style is provided)\n",
    "    '''\n",
    "  \n",
    "    # Set style if received a valid style name or filepath otherwise reset to default\n",
    "    if styleType and ( styleType in style.available or ( file and isfile( styleType ) ) ):\n",
    "        style.use( styleType )\n",
    "    else:\n",
    "        mpl.rcParams.update( mpl.rcParamsDefault )\n",
    "    \n",
    "    # Generate a figure with 3X3 plots\n",
    "    f, ax = plt.subplots( 3, 2, figsize = (16,18) )\n",
    "    ax = ax.flat # Flatten axis matrix to 1D flat array of axis objects\n",
    "\n",
    "    # Chart 1: Histogram of Sepal Length\n",
    "    ax[0].hist( irisDF.SepalLength )\n",
    "    ax[0].set( title = 'Iris Sepal Length Histogram', ylabel = 'Frequency', xlabel = 'Sepal Length' )\n",
    "    \n",
    "    # Chart 2: Plotting all 4 features as line charts\n",
    "    x = np.arange( len( irisDF ) )\n",
    "    ax[1].plot( x, irisDF.SepalLength, label = \"Sepal Length\" )\n",
    "    ax[1].plot( x, irisDF.SepalWidth,  label = \"Sepal Width\"  )\n",
    "    ax[1].plot( x, irisDF.PetalLength, label = \"Petal Length\" )\n",
    "    ax[1].plot( x, irisDF.PetalWidth,  label = \"Petal Width\"  )\n",
    "    ax[1].set( title = \"Iris features\", ylabel = \"CM\" )\n",
    "    ax[1].legend()\n",
    "    \n",
    "    # Chart 3: Bar plot of Sepal Length by species\n",
    "    meanSpealLengthPerSpecies = irisDF.groupby('Species').agg({ 'SepalLength' : 'mean' })\n",
    "    x  = meanSpealLengthPerSpecies.index\n",
    "    y  = meanSpealLengthPerSpecies.SepalLength\n",
    "    xi = list( range( len( x ) ) )\n",
    "    ax[2].bar( xi, y )\n",
    "    ax[2].set_xticks( xi )\n",
    "    ax[2].set_xticklabels( x )\n",
    "    ax[2].set_title( \"Mean Sepal Length by Species\" )\n",
    "    \n",
    "    # Chart 4: Boxplot of Petal Length by species\n",
    "    x = irisDF.Species.unique()\n",
    "    y = [ irisDF[ irisDF.Species == xi ].PetalLength for xi in x ]\n",
    "    ax[3].boxplot( y, labels = x, patch_artist = True )\n",
    "    ax[3].set( title = 'Petal Length by Species' )\n",
    "    \n",
    "    # Chart 5: Scatter plot of Petal length by petal width\n",
    "    ax[4].scatter( irisDF.PetalLength, irisDF.PetalWidth )\n",
    "    ax[4].set( title = \"Iris Petal Length vs. Width\", xlabel = 'Petal Length', ylabel = 'Petal Width' )\n",
    "    \n",
    "    # Chart 6: Random Image\n",
    "    img = np.random.random( ( 100, 100 ) )\n",
    "    ax[5].imshow( img )\n",
    "    ax[5].set_title( \"Random Image\" )\n",
    "   \n",
    "    plt.tight_layout()\n",
    "    plt.show()"
   ]
  },
  {
   "cell_type": "markdown",
   "metadata": {},
   "source": [
    "### My personal favorites: ggplot and fivethirtyeight\n",
    "Let's compare them with the default matplotlib style. The examples below use some techniques for subplotting that we'll discuss later, you can just ignore it and only use the function to test styles for now."
   ]
  },
  {
   "cell_type": "code",
   "execution_count": null,
   "metadata": {},
   "outputs": [],
   "source": [
    "print( \"Default style\" )\n",
    "testStyle( styleType = None )"
   ]
  },
  {
   "cell_type": "code",
   "execution_count": null,
   "metadata": {},
   "outputs": [],
   "source": [
    "print( 'ggplot' )\n",
    "testStyle( styleType = 'ggplot' )"
   ]
  },
  {
   "cell_type": "code",
   "execution_count": null,
   "metadata": {
    "scrolled": false
   },
   "outputs": [],
   "source": [
    "print( 'fivethirtyeight' )\n",
    "testStyle( styleType = 'fivethirtyeight' )"
   ]
  },
  {
   "cell_type": "markdown",
   "metadata": {},
   "source": [
    "### Let's make our own style by enhancing the default ggplot style\n",
    "\n",
    "It's easier to start by finding the existing style presets. Find them in your matplotlib config folder.\n",
    "\n",
    "In linux / mac:\n",
    "\n",
    "    ~/.config/matplotlib\n",
    "    \n",
    "In Windows:\n",
    "\n",
    "    ~/python_folder/Lib/site-packages/matplotlib/mpl-data/stylelib\n",
    "    \n",
    "Here's the custom style's content:"
   ]
  },
  {
   "cell_type": "code",
   "execution_count": null,
   "metadata": {},
   "outputs": [],
   "source": [
    "with open( 'ggplot_pp.mplstyle' ) as f:\n",
    "    print( f.read() )"
   ]
  },
  {
   "cell_type": "markdown",
   "metadata": {},
   "source": [
    "### Anatomy of a figure\n",
    "!['Anatomy of a figure'](https://matplotlib.org/_images/anatomy.png)\n",
    "\n",
    "from: https://matplotlib.org/_images/anatomy.png"
   ]
  },
  {
   "cell_type": "code",
   "execution_count": null,
   "metadata": {
    "scrolled": false
   },
   "outputs": [],
   "source": [
    "mpl.rcParams.update( mpl.rcParamsDefault )\n",
    "print( 'ggplot_pp.mplstyle' )\n",
    "testStyle( styleType = 'ggplot_pp.mplstyle', file = True )"
   ]
  },
  {
   "cell_type": "markdown",
   "metadata": {},
   "source": [
    "## Further to explore:\n",
    "\n",
    "Official custom style docs:\n",
    "https://matplotlib.org/users/style_sheets.html\n",
    "\n",
    "### The highest aspiration of any self respecting plotting nerd: XKCD\n",
    "\n",
    "!['XKCD'](http://imgs.xkcd.com/comics/front_door.png)\n",
    "\n",
    "Tutorial by Jake Vanderplas:\n",
    "https://jakevdp.github.io/blog/2012/10/07/xkcd-style-plots-in-matplotlib  \n",
    "\n",
    "Offical matplotlib method:\n",
    "https://matplotlib.org/devdocs/api/_as_gen/matplotlib.pyplot.xkcd.html"
   ]
  },
  {
   "cell_type": "markdown",
   "metadata": {},
   "source": [
    "## Using figures and axis objects\n",
    "\n",
    "### Figures\n",
    "A figure is a canvas for drawing your plots. It has a designated size (`figsize`), and can contain several subplots.\n",
    "After creating a new figure, all the plots you draw will be added to this figure (until you generate a new figure, or run `plot.show()`).\n",
    "\n",
    "### Using matplotlib.subplots()\n",
    "\n",
    "The subplots function is a handy way to generate a figure and axes object, which gives us the ability to set the figure size explicity using the `figsize` argument. It also enables us to define the number of subplots we need, in a neat array or matrix of axis objects."
   ]
  },
  {
   "cell_type": "code",
   "execution_count": null,
   "metadata": {},
   "outputs": [],
   "source": [
    "figure, axes = plt.subplots( \n",
    "    2,                 # 2 rows\n",
    "    2,                 # 2 columns\n",
    "    figsize = ( 5, 5 ) # Figure of 500 X 500 pixels\n",
    ")\n",
    "\n",
    "plt.tight_layout() # Rearrange chart, especially axis ticks' text, to fit small chart size\n",
    "\n",
    "# Let's see what the axes object contains\n",
    "axes"
   ]
  },
  {
   "cell_type": "markdown",
   "metadata": {},
   "source": [
    "### When you don't care about individual plot placement, you can convert the axes matrix to a flat array\n",
    "\n",
    "#### We'll use the Boston housing values dataset from Scikit Learn to expore this\n",
    "\n",
    "Data Set Information:\n",
    "\n",
    "Concerns housing values in suburbs of Boston.\n",
    "\n",
    "\n",
    "Attribute Information:\n",
    "\n",
    "    1. CRIM: per capita crime rate by town \n",
    "    2. ZN: proportion of residential land zoned for lots over 25,000 sq.ft. \n",
    "    3. INDUS: proportion of non-retail business acres per town \n",
    "    4. CHAS: Charles River dummy variable (= 1 if tract bounds river; 0 otherwise) \n",
    "    5. NOX: nitric oxides concentration (parts per 10 million) \n",
    "    6. RM: average number of rooms per dwelling \n",
    "    7. AGE: proportion of owner-occupied units built prior to 1940 \n",
    "    8. DIS: weighted distances to five Boston employment centres \n",
    "    9. RAD: index of accessibility to radial highways \n",
    "    10. TAX: full-value property-tax rate per $10,000\n",
    "11. PTRATIO: pupil-teacher ratio by town \n",
    "12. B: 1000(Bk - 0.63)^2 where Bk is the proportion of blacks by town \n",
    "13. LSTAT: % lower status of the population \n",
    "14. MEDV: Median value of owner-occupied homes in $1000's"
   ]
  },
  {
   "cell_type": "code",
   "execution_count": null,
   "metadata": {},
   "outputs": [],
   "source": [
    "# Load dataset and generate Pandas dataframe\n",
    "boston = datasets.load_boston()\n",
    "bostonDF = pd.DataFrame(\n",
    "    data    = np.c_[ boston['data'], boston['target'] ],\n",
    "    columns = list( boston['feature_names'] ) + ['MEDV']\n",
    ")\n",
    "\n",
    "bins   = np.linspace( bostonDF.RM.min(), bostonDF.RM.max(), 7 )\n",
    "labels = [ round(v) for v in bins[1:] ]\n",
    "bostonDF['RM.groups'] = pd.cut( bostonDF.RM, bins, labels = labels )\n",
    "\n",
    "bostonDF['RM.groups'].value_counts()"
   ]
  },
  {
   "cell_type": "code",
   "execution_count": null,
   "metadata": {},
   "outputs": [],
   "source": [
    "f, axs = plt.subplots( 2, 3, figsize = ( 12, 9 ) )\n",
    "\n",
    "flat = axs.flat # Flatten axes matrix\n",
    "for ax, rmGroup in zip( flat, labels ):\n",
    "    rmGroupDF = bostonDF[ bostonDF['RM.groups'] == rmGroup ]\n",
    "    ax.hist( rmGroupDF['MEDV'] )\n",
    "    ax.set_title( rmGroup )\n",
    "    \n",
    "f.suptitle( \"Median value ($1K) histogram by number of rooms\", fontsize = 20 )\n",
    "plt.show()"
   ]
  },
  {
   "cell_type": "markdown",
   "metadata": {},
   "source": [
    "## Color maps\n",
    "\n",
    "Colormaps are sets of colors, normally used to map value to color in a predictable way.\n",
    "However, some color maps are simply repositories of nice, eye pleasing color combinations that work well together.\n",
    "\n",
    "Using a colormap is a nice way to add an additional data dimension to your plot without adding another spatial axis.\n",
    "\n",
    "Matplotlib has several color repositories and lots of color maps for you to choose from."
   ]
  },
  {
   "cell_type": "code",
   "execution_count": null,
   "metadata": {
    "scrolled": false
   },
   "outputs": [],
   "source": [
    "meanSpealLengthPerSpecies = irisDF.groupby('Species').agg({ 'SepalLength' : 'mean' })\n",
    "x  = meanSpealLengthPerSpecies.index\n",
    "y  = meanSpealLengthPerSpecies.SepalLength\n",
    "xi = list( range( len( x ) ) )\n",
    "\n",
    "fig, ax = plt.subplots( 1,2, figsize = ( 12, 5) )\n",
    "\n",
    "for i, a in enumerate( ax ):\n",
    "    if i == 0:\n",
    "        a.bar( xi, y )\n",
    "    else:\n",
    "        # Pass a list of colors to the color argument to set a color for each value\n",
    "        a.bar( xi, y, color = plt.get_cmap('Vega10').colors )\n",
    "\n",
    "    a.set_xticks( xi )\n",
    "    a.set_xticklabels( x, fontsize = 12 )\n",
    "    a.set_title( \"Mean Sepal Length by Species\", fontsize = 14 )\n",
    "    a.set_yticklabels( np.linspace(0,7,8), fontsize = 12 )\n",
    "\n",
    "fig.suptitle( \"Let's add some color!\", fontsize = 18 )\n",
    "\n",
    "plt.show()"
   ]
  },
  {
   "cell_type": "markdown",
   "metadata": {},
   "source": [
    "### Color mapping labels\n",
    "\n",
    "Although it's nice and more interesting to see color for each bar in a bar plot, it's probably much handier to use colors to visualize labelled data. ggplot2 has a built in function for coloring data by a list of labels, and all we need to reproduce this behavior is a small function that maps labels to colors via a provided color map name."
   ]
  },
  {
   "cell_type": "code",
   "execution_count": null,
   "metadata": {
    "collapsed": true
   },
   "outputs": [],
   "source": [
    "import matplotlib.lines as mlines\n",
    "\n",
    "def labels_to_colors( labels, cmapName = 'Vega20', marker = 'o' ):\n",
    "    \"\"\" This function accepts a list of labels and a colormap name,\n",
    "    and maps each unique label to a unique color from the provided color map.\n",
    "    It then retuns a legend handles and the list of colors for each label point.\n",
    "\n",
    "    Arguments:\n",
    "    labels   -- Flat array of labels\n",
    "    cmapName -- Name of a matplotlib colormap to be used\n",
    "    marker   -- Marker type for legend\n",
    "    \"\"\"\n",
    "    \n",
    "    uniques = list( pd.Series( labels ).unique() )\n",
    "    cmap    = plt.get_cmap( cmapName )\n",
    "    \n",
    "    handles = [ \n",
    "        mlines.Line2D(\n",
    "            [], [], \n",
    "            color      = cmap( uniques.index( ulabel ) ),\n",
    "            linestyle  = '',\n",
    "            marker     = marker,\n",
    "            markersize = 5,\n",
    "            label      = ulabel\n",
    "        )\n",
    "        for ulabel in uniques\n",
    "    ]\n",
    "    \n",
    "    colors = [ cmap( uniques.index( label ) ) for label in labels ]\n",
    "    return handles, colors"
   ]
  },
  {
   "cell_type": "code",
   "execution_count": null,
   "metadata": {},
   "outputs": [],
   "source": [
    "f, ax = plt.subplots( figsize = (7, 7) )\n",
    "handles, colors = labels_to_colors( irisDF.Species, 'Vega10' )\n",
    "ax.scatter( irisDF.SepalLength, irisDF.PetalWidth, color = colors )\n",
    "\n",
    "ax.legend(handles = handles )\n",
    "ax.set( \n",
    "    xlabel = 'Sepal Length (cm)', \n",
    "    ylabel = 'Petal Width (cm)', \n",
    "    title  = 'Sepal length vs. petal width\\n per species (color)'\n",
    ")\n",
    "\n",
    "plt.show()"
   ]
  },
  {
   "cell_type": "markdown",
   "metadata": {},
   "source": [
    "### Color mapping values\n",
    "\n",
    "Another nice way to use colormaps is to reflect another continuous numerical dimension, rather than add another spatial axis. Again, we'll right a function that performs this behavior, which is built in in ggplot2."
   ]
  },
  {
   "cell_type": "code",
   "execution_count": null,
   "metadata": {
    "collapsed": true
   },
   "outputs": [],
   "source": [
    "def values_to_colors( values, cmapName = 'Spectral_r' ):\n",
    "    \"\"\" This function accepts a list of values and a colormap name, and returns a list of colors\n",
    "    from the color map, matching the normalized values provided.\n",
    "\n",
    "    Arguments:\n",
    "    values   -- Flat array of values\n",
    "    cmapName -- Name of a matplotlib colormap to be used\n",
    "    \"\"\"\n",
    "\n",
    "    # Normalize values list\n",
    "    a = np.array( values )\n",
    "    norm = ( a - a.min() ) / ( a.max() - a.min() )\n",
    "\n",
    "    # Make sure provided colormap name exists, otherwise fallback to Spectral\n",
    "    if cmapName not in plt.colormaps():\n",
    "        cmapName = 'Spectral_r'\n",
    "        \n",
    "    cmap = plt.get_cmap( cmapName )\n",
    "    \n",
    "    # Calculate colors via colormap and return them\n",
    "    return [ cmap( v ) for v in norm ]"
   ]
  },
  {
   "cell_type": "code",
   "execution_count": null,
   "metadata": {},
   "outputs": [],
   "source": [
    "x = np.linspace(-5,5,500)\n",
    "y = np.sin( x )\n",
    "z = np.cos( y )\n",
    "\n",
    "f, ax = plt.subplots( figsize = (7, 5) )\n",
    "ax.scatter( x, y, color = values_to_colors( z ) )\n",
    "\n",
    "ax.set_title(\"Using color as to visualize a third variable\")\n",
    "\n",
    "plt.show()"
   ]
  },
  {
   "cell_type": "markdown",
   "metadata": {},
   "source": [
    "## Interactivity in Jupyter with ipywidgets interact\n",
    "\n",
    "In addition to plotting spicy charts, notebooks can become even nicer and more useful with a few basic interactive controls.\n",
    "\n",
    "To make anything interactive in Jupyter, we simply need to wrap our to-be-interactive functionality in a dedicated function. We can then call the `interact` method or the `@interact` decorator to make in interactive."
   ]
  },
  {
   "cell_type": "code",
   "execution_count": null,
   "metadata": {},
   "outputs": [],
   "source": [
    "from ipywidgets import interact\n",
    "import ipywidgets as widgets\n",
    "\n",
    "from scipy.stats import norm"
   ]
  },
  {
   "cell_type": "code",
   "execution_count": null,
   "metadata": {
    "scrolled": true
   },
   "outputs": [],
   "source": [
    "def gaussian(x, mu, sig):\n",
    "    return np.exp(-np.power(x - mu, 2.) / (2 * np.power(sig, 2.)))\n",
    "\n",
    "def interactive_normal_dist( mu = 0, sig = 1.0 ):\n",
    "    f, ax = plt.subplots( figsize = (7, 5 ) )\n",
    "    ax.plot( gaussian( np.linspace(-5, 5, 120), mu, sig ) )\n",
    "\n",
    "    plt.show()\n",
    "\n",
    "interact( interactive_normal_dist, mu = (-5, 5, 0.1), sig = (-5,5, 0.1) )"
   ]
  },
  {
   "cell_type": "markdown",
   "metadata": {},
   "source": [
    "## More to explore: Advanced interactivity with plotly and bokeh\n",
    "\n",
    "### Plotly\n",
    "Python library and API for generating and hosting interactive plots.\n",
    "\n",
    "https://plot.ly/python/\n",
    "\n",
    "Accepts matplotlib objects for direct plotting:\n",
    "\n",
    "https://plot.ly/matplotlib/\n",
    "    \n",
    "### Bokeh\n",
    "Similar concept, created by Continuum - the awesome makers of Anaconda.\n",
    "\n",
    "http://bokeh.pydata.org/en/latest/docs/gallery.html   \n"
   ]
  }
 ],
 "metadata": {
  "kernelspec": {
   "display_name": "Python [conda root]",
   "language": "python",
   "name": "conda-root-py"
  },
  "language_info": {
   "codemirror_mode": {
    "name": "ipython",
    "version": 3
   },
   "file_extension": ".py",
   "mimetype": "text/x-python",
   "name": "python",
   "nbconvert_exporter": "python",
   "pygments_lexer": "ipython3",
   "version": "3.5.2"
  }
 },
 "nbformat": 4,
 "nbformat_minor": 2
}
